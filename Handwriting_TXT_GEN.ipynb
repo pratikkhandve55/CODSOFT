{
  "nbformat": 4,
  "nbformat_minor": 0,
  "metadata": {
    "colab": {
      "provenance": []
    },
    "kernelspec": {
      "name": "python3",
      "display_name": "Python 3"
    },
    "language_info": {
      "name": "python"
    }
  },
  "cells": [
    {
      "cell_type": "code",
      "execution_count": 1,
      "metadata": {
        "id": "NxEefAGBCUeF"
      },
      "outputs": [],
      "source": [
        "# !pip install datasets"
      ]
    },
    {
      "cell_type": "code",
      "source": [
        "from datasets import load_dataset"
      ],
      "metadata": {
        "id": "SbBhBx8sCwkI"
      },
      "execution_count": 2,
      "outputs": []
    },
    {
      "cell_type": "code",
      "source": [
        "dataset = load_dataset('wikitext', 'wikitext-2-raw-v1')"
      ],
      "metadata": {
        "id": "BCBNW4cPC-Wi",
        "colab": {
          "base_uri": "https://localhost:8080/",
          "height": 365,
          "referenced_widgets": [
            "dd1ec27054114869ab33030048acf7e6",
            "7a41854a845a415a91507986dd2bb925",
            "8d463f4ea134426ca9704255a579b4da",
            "fbc9c34649f6495c8de512cf360d7bea",
            "1dc298307b654619a5f9862bb134d43d",
            "59b6f297f75b4c97babcc08b87c446f0",
            "bf253fc1164c4fce97dca71676e90d66",
            "a2697584f7104d14a82408112dd04935",
            "269879329c6b4e9b94be6f5e2b8e763c",
            "9403d0c6870a45c6953d3e68ddb15c9f",
            "967bcc3c6b7a4fa0a04ed2637da3ecb8",
            "e3add461509a4f69b8e55062cfe9e836",
            "f3c4f90c12434576930cbe39d2cb4a90",
            "79479181066e42f599df3d90a7676f5b",
            "1f315b96d26547a1a3a56bde4113f607",
            "7356f473be394af7b5162a5125282e53",
            "f58263b1f4204b0db13dd975c94f6000",
            "4353536a839e4de4aed2501fee0bdf9c",
            "0a52bf4ac2ff47d09b00fd6747a80b7f",
            "6aa2779cb1ae4a14b85f76cd2dcc01d4",
            "ee4ce058a0d444f2824df79dc5978b41",
            "bc364596f66444f696ca01fc94b31a4d",
            "8f04de19558f41f7b56a2b99fff45c7a",
            "f111bc124c7c486eac183be056718617",
            "0cf7e218e4154fe1b9f8dcc5052e63c6",
            "d2b0e3aa318c4cb1bf024a2340acb571",
            "29b27dde43fe4bbfbf0fe5b771bee088",
            "502af111117d411d8e5e687b2c6899a4",
            "97fa41312871484f81e1749ed26f846e",
            "75d2afd802c843fd9d9ce2f3451a15ac",
            "7854e1986a234d638f8e188ec1b8305f",
            "7025a2ddab3647c896ff9dc6561497db",
            "7380ecdf169c4fdfb5da610957a6031a",
            "5deae18ae44348bfbece8a18718bdb9f",
            "0acb72d57319456e8be945fb73e91d31",
            "dda8a47bbb334a3ba6327e58f68281a1",
            "0bd19cbfb7c54b4785b03b0f4d473018",
            "49ec6e90c2444be9b46f9abbf2baebcc",
            "5ff4fdebed224e249e96efcbe4b15a79",
            "547c139ff5594935864fabd3c1b3e5f6",
            "57100419bec345b0a8f42b5adc5ca784",
            "a9a6657c5b414c708a0eda3b677b5e8a",
            "a3f90e42e214494f8fc896088706ae6d",
            "7271eabb7d1243d4a9667857efee64a8",
            "8d5f9f10352247e09d644946f4ac6825",
            "5c809ae33d5a4a9495c3932d8a59fe85",
            "88636be170c846b48e31876bd3a5ce1b",
            "0ab466a25d7b46538b502515cf946b47",
            "c2458b0aeb494c82aa322ad795235a8b",
            "29dc3a8ac80e479dbc04eb5628d5147e",
            "2a735350f8a4481bafe6191f19ab4a86",
            "3bb49c22ebe04721b420d9c86d1286be",
            "bc0b848acde44197b89bcab5ca7797f0",
            "b419b65bb68740ec89896ec010b004a5",
            "abce773a9c6c484d81808e3c8b1a740c",
            "5ddae2e16d17403da71839a634372dc5",
            "87dc2cd579194c8b9f11a3482a48fc00",
            "ec8517a6b02845669c2a38caa6a206d9",
            "bdee24e441eb489a963cef4559362dc0",
            "8ef6ea7594d846448ed5f57dcc9fe1d7",
            "f00cad7355134e2f9759f8c700251a4d",
            "984d6bbae1114619988b902c676b7190",
            "d3619fa692c4457990d518ee4fab4421",
            "46ac66bb7516466c93db16f83ad3265e",
            "baf3b7fd045441d4a978b5046848b2af",
            "2cc93fdead474c2db7f66e6baea79137",
            "503d6c6f07cb458bac646bfed7caff45",
            "30fc0a90e0f842649b35d162decc75ab",
            "dd5e381d3e2848d19b7e65355b1b9e84",
            "2c64df7c528d4d189bf847bc7497cb2d",
            "613d28e7309d4e01b4831d9b415f5937",
            "462dc150018b4addbdff132c73da22f6",
            "299fb06120cb4087b1eac23db53f2d90",
            "84fa65f9c6414e47bb60d6fb652bb478",
            "0c52e875f4ff446d9f2c70c775f46221",
            "87b2fa1eb6f842c68eb063185495dbcd",
            "87f14f91f6b84b43a6b95acec80ce517"
          ]
        },
        "outputId": "40ff0f6b-54e0-402a-c35d-b2c0fa5d3903"
      },
      "execution_count": 3,
      "outputs": [
        {
          "output_type": "stream",
          "name": "stderr",
          "text": [
            "/usr/local/lib/python3.12/dist-packages/huggingface_hub/utils/_auth.py:94: UserWarning: \n",
            "The secret `HF_TOKEN` does not exist in your Colab secrets.\n",
            "To authenticate with the Hugging Face Hub, create a token in your settings tab (https://huggingface.co/settings/tokens), set it as secret in your Google Colab and restart your session.\n",
            "You will be able to reuse this secret in all of your notebooks.\n",
            "Please note that authentication is recommended but still optional to access public models or datasets.\n",
            "  warnings.warn(\n"
          ]
        },
        {
          "output_type": "display_data",
          "data": {
            "text/plain": [
              "README.md: 0.00B [00:00, ?B/s]"
            ],
            "application/vnd.jupyter.widget-view+json": {
              "version_major": 2,
              "version_minor": 0,
              "model_id": "dd1ec27054114869ab33030048acf7e6"
            }
          },
          "metadata": {}
        },
        {
          "output_type": "display_data",
          "data": {
            "text/plain": [
              "test-00000-of-00001.parquet:   0%|          | 0.00/733k [00:00<?, ?B/s]"
            ],
            "application/vnd.jupyter.widget-view+json": {
              "version_major": 2,
              "version_minor": 0,
              "model_id": "e3add461509a4f69b8e55062cfe9e836"
            }
          },
          "metadata": {}
        },
        {
          "output_type": "display_data",
          "data": {
            "text/plain": [
              "train-00000-of-00001.parquet:   0%|          | 0.00/6.36M [00:00<?, ?B/s]"
            ],
            "application/vnd.jupyter.widget-view+json": {
              "version_major": 2,
              "version_minor": 0,
              "model_id": "8f04de19558f41f7b56a2b99fff45c7a"
            }
          },
          "metadata": {}
        },
        {
          "output_type": "display_data",
          "data": {
            "text/plain": [
              "validation-00000-of-00001.parquet:   0%|          | 0.00/657k [00:00<?, ?B/s]"
            ],
            "application/vnd.jupyter.widget-view+json": {
              "version_major": 2,
              "version_minor": 0,
              "model_id": "5deae18ae44348bfbece8a18718bdb9f"
            }
          },
          "metadata": {}
        },
        {
          "output_type": "display_data",
          "data": {
            "text/plain": [
              "Generating test split:   0%|          | 0/4358 [00:00<?, ? examples/s]"
            ],
            "application/vnd.jupyter.widget-view+json": {
              "version_major": 2,
              "version_minor": 0,
              "model_id": "8d5f9f10352247e09d644946f4ac6825"
            }
          },
          "metadata": {}
        },
        {
          "output_type": "display_data",
          "data": {
            "text/plain": [
              "Generating train split:   0%|          | 0/36718 [00:00<?, ? examples/s]"
            ],
            "application/vnd.jupyter.widget-view+json": {
              "version_major": 2,
              "version_minor": 0,
              "model_id": "5ddae2e16d17403da71839a634372dc5"
            }
          },
          "metadata": {}
        },
        {
          "output_type": "display_data",
          "data": {
            "text/plain": [
              "Generating validation split:   0%|          | 0/3760 [00:00<?, ? examples/s]"
            ],
            "application/vnd.jupyter.widget-view+json": {
              "version_major": 2,
              "version_minor": 0,
              "model_id": "503d6c6f07cb458bac646bfed7caff45"
            }
          },
          "metadata": {}
        }
      ]
    },
    {
      "cell_type": "code",
      "source": [
        "dataset = load_dataset('imdb')"
      ],
      "metadata": {
        "id": "amHC8ZBRDcrj",
        "colab": {
          "base_uri": "https://localhost:8080/",
          "height": 241,
          "referenced_widgets": [
            "823e362e940645ada259e76e5430cc98",
            "6291151cc0684fc7bc1144014721bae9",
            "6ad20829a7784c5d8774c5452ab4c656",
            "34ce8af0ff8449429c739515804fdd1e",
            "89738d20a0d74e4da5ff4deea09c8041",
            "83ceff0997e647f0b952bae58f14e432",
            "2aaff12e69cd4dc996f1aa052f82e403",
            "655b89877d614651ac9018d9716a041d",
            "e37e016955f4466f87283176057c0ffa",
            "c8150840cc6e4b4da4814480d52e59e4",
            "158ecbd3ba9045e98bfd3f7d307f5526",
            "983263cfe16142fc9e216722633edd43",
            "39f03ffdca114d6fbefa5db6e689093e",
            "ddac3ba0157b4073abec7bf1a5413bfa",
            "d0a611d0e97244b3b3e29f91943b68c9",
            "9bd21e6df79d451caf6411143637b825",
            "5ebb458157814713b06514cf19a9949e",
            "fde6940f32d7497a82ca46f106691bd5",
            "3aa894140feb419cb143fc1e69c57b64",
            "c608476cd3fc4cf69678b99181dafef1",
            "730c8d1db2f14b108da53f6f278f7d96",
            "eaa55f4e5a824f76b2080b8c7dafcafd",
            "ac90bc2405f64b968d8b2ade014d34b1",
            "06775d57e95e47a9a57edfee6f368ebf",
            "4b485291e8714adea6d2c396d5ba3fa4",
            "25e716ac01e846afadee2059f75da9cb",
            "1ce83619f9714b55836b5d5438a8b309",
            "c797b9048bac457b93bd71c93274272c",
            "ae6632c0b23948448bd7962ec3fd1354",
            "fa59a48a4e4b442da7cbf45261a147aa",
            "2a98b24782934cd087868dddd4a76db0",
            "73c931f53ad24f7195f797393a649d43",
            "b553b8e12ee64de2b6deec3dbb702c0f",
            "26be53eba3d94764b24f1e44a0dcaf96",
            "95fc28c196a4425d841f1d2239dab629",
            "cd8cd72e79ff48f08f07a4ef80213d79",
            "04fd51d946ba469da523b67ef69a7e25",
            "b2a2a9fdca66420a8fdacc47c62a2eeb",
            "5fe67ea7a4c44f3582b9920c97a68013",
            "d7c867d99e4143f79ba55b5c79527313",
            "2b3aaea863124f37a1c1595bac3829f4",
            "bb8a6cecc2c24f42888b3416352254b8",
            "feb9bca5924a4157998af9dde4d738ce",
            "8f383b41863249899962c4e160a5900a",
            "462bac479bfb4bc89bdd0a6fc7970629",
            "40338ba224bd4a929bb2e7194252ac8a",
            "903e7c7561f148688b5a15ae5b0e5431",
            "302cc79bc2ed4d2c9b946bd0b8d07629",
            "df1bd01f90d84275b83b822c483fc5e3",
            "bb67827e66db441ca8f34edec6316dda",
            "7b4d3884440043eaaf35b648c5452227",
            "ac4f0cc03b0549f8af0548fd1fb5f2ce",
            "d936bdc6845447f1a3d42d7600d88139",
            "740212cbcb294b2ebb1f37a124665d0c",
            "e6855ccd5d1d4bf6b136ffe613f08bf9",
            "7f1c255d25f243cb981c67d837cd14eb",
            "f1198685dacd42d1a96f2c06c626c83a",
            "8cba60ec6648478aa8e15247694a140a",
            "c92dd6075a45453c92d968f75cd35309",
            "efb6808a2bfc423687cb6be4cdd3f9a3",
            "8f2140c3c54b4c59b79c0c617ea12935",
            "0426b4b108ea4c7d9df31351ae7b24cb",
            "fb8edc274f42481590b43971fa664236",
            "d9657e513d874748802ef5a2bb40b17d",
            "64db1dcfb6cc4615bd6367f3f9aecb93",
            "46f7754dcb9947b09ba278aad829d130",
            "b243d9200f6b47028e81f79d453f5b39",
            "034f5cfdde764628a6e7a61e1f6ca444",
            "4b845a6d8bb04f9f9f72f15c6d84a24f",
            "3ebf772369004b4499273b5e19445cd4",
            "546bd28e9e174c17ae45258fa0c81066",
            "2d7d2edd2134497295461a9b456302a1",
            "3cc3b1c572074b0da698c04de75a952c",
            "cfcaefad21ff4e829bb0ffca67e586a1",
            "729e0c732b4942ba9af52c3c20049b8e",
            "71bf223269364656aed6b9d60f1ac56a",
            "b8fa43b971a0462082c6fc57ca4aff52"
          ]
        },
        "outputId": "ef5fb433-26fb-45a7-a55e-3ed94a2057da"
      },
      "execution_count": 4,
      "outputs": [
        {
          "output_type": "display_data",
          "data": {
            "text/plain": [
              "README.md: 0.00B [00:00, ?B/s]"
            ],
            "application/vnd.jupyter.widget-view+json": {
              "version_major": 2,
              "version_minor": 0,
              "model_id": "823e362e940645ada259e76e5430cc98"
            }
          },
          "metadata": {}
        },
        {
          "output_type": "display_data",
          "data": {
            "text/plain": [
              "plain_text/train-00000-of-00001.parquet:   0%|          | 0.00/21.0M [00:00<?, ?B/s]"
            ],
            "application/vnd.jupyter.widget-view+json": {
              "version_major": 2,
              "version_minor": 0,
              "model_id": "983263cfe16142fc9e216722633edd43"
            }
          },
          "metadata": {}
        },
        {
          "output_type": "display_data",
          "data": {
            "text/plain": [
              "plain_text/test-00000-of-00001.parquet:   0%|          | 0.00/20.5M [00:00<?, ?B/s]"
            ],
            "application/vnd.jupyter.widget-view+json": {
              "version_major": 2,
              "version_minor": 0,
              "model_id": "ac90bc2405f64b968d8b2ade014d34b1"
            }
          },
          "metadata": {}
        },
        {
          "output_type": "display_data",
          "data": {
            "text/plain": [
              "plain_text/unsupervised-00000-of-00001.p(\u2026):   0%|          | 0.00/42.0M [00:00<?, ?B/s]"
            ],
            "application/vnd.jupyter.widget-view+json": {
              "version_major": 2,
              "version_minor": 0,
              "model_id": "26be53eba3d94764b24f1e44a0dcaf96"
            }
          },
          "metadata": {}
        },
        {
          "output_type": "display_data",
          "data": {
            "text/plain": [
              "Generating train split:   0%|          | 0/25000 [00:00<?, ? examples/s]"
            ],
            "application/vnd.jupyter.widget-view+json": {
              "version_major": 2,
              "version_minor": 0,
              "model_id": "462bac479bfb4bc89bdd0a6fc7970629"
            }
          },
          "metadata": {}
        },
        {
          "output_type": "display_data",
          "data": {
            "text/plain": [
              "Generating test split:   0%|          | 0/25000 [00:00<?, ? examples/s]"
            ],
            "application/vnd.jupyter.widget-view+json": {
              "version_major": 2,
              "version_minor": 0,
              "model_id": "7f1c255d25f243cb981c67d837cd14eb"
            }
          },
          "metadata": {}
        },
        {
          "output_type": "display_data",
          "data": {
            "text/plain": [
              "Generating unsupervised split:   0%|          | 0/50000 [00:00<?, ? examples/s]"
            ],
            "application/vnd.jupyter.widget-view+json": {
              "version_major": 2,
              "version_minor": 0,
              "model_id": "b243d9200f6b47028e81f79d453f5b39"
            }
          },
          "metadata": {}
        }
      ]
    },
    {
      "cell_type": "code",
      "source": [
        "train_texts = dataset['train']['text']\n",
        "corpus = \"\".join(train_texts)\n",
        "\n",
        "print(\"corpus length:\", len(corpus))\n",
        "print(corpus[:500])"
      ],
      "metadata": {
        "colab": {
          "base_uri": "https://localhost:8080/"
        },
        "id": "0tyyDzKkDo2Q",
        "outputId": "6bf056e9-aa8e-4cf6-d5f3-c014e35e2490"
      },
      "execution_count": 5,
      "outputs": [
        {
          "output_type": "stream",
          "name": "stdout",
          "text": [
            "corpus length: 33126741\n",
            "I rented I AM CURIOUS-YELLOW from my video store because of all the controversy that surrounded it when it was first released in 1967. I also heard that at first it was seized by U.S. customs if it ever tried to enter this country, therefore being a fan of films considered \"controversial\" I really had to see this for myself.<br /><br />The plot is centered around a young Swedish drama student named Lena who wants to learn everything she can about life. In particular she wants to focus her attent\n"
          ]
        }
      ]
    },
    {
      "cell_type": "code",
      "source": [
        "import numpy as np\n",
        "import tensorflow as tf\n",
        "from tensorflow import keras\n",
        "\n",
        "# sort the corpus and collect only unique characters\n",
        "\n",
        "chars = sorted(list(set(corpus)))\n",
        "vocab_size = len(chars)\n",
        "\n",
        "print(f\"unique characters{chars[:50]}\")\n",
        "print(f\"Vocabulary size {vocab_size}\")\n",
        "\n",
        "# Map character with index\n",
        "\n",
        "char_to_idx = {c:i for i,c in enumerate(chars)}\n",
        "idx_to_char = {i:c for i,c in enumerate(chars)}\n",
        "\n",
        "print(char_to_idx)\n",
        "\n",
        "encoded = np.array([char_to_idx[c] for c in corpus])\n",
        "\n",
        "print(\"Encoded Sample\", encoded[:100])"
      ],
      "metadata": {
        "id": "Ix3JQPkpHZed",
        "colab": {
          "base_uri": "https://localhost:8080/"
        },
        "outputId": "e531f9b0-c1f7-4731-d1e1-2017b6d2c3c4"
      },
      "execution_count": 6,
      "outputs": [
        {
          "output_type": "stream",
          "name": "stdout",
          "text": [
            "unique characters['\\x08', '\\t', '\\x10', ' ', '!', '\"', '#', '$', '%', '&', \"'\", '(', ')', '*', '+', ',', '-', '.', '/', '0', '1', '2', '3', '4', '5', '6', '7', '8', '9', ':', ';', '<', '=', '>', '?', '@', 'A', 'B', 'C', 'D', 'E', 'F', 'G', 'H', 'I', 'J', 'K', 'L', 'M', 'N']\n",
            "Vocabulary size 178\n",
            "{'\\x08': 0, '\\t': 1, '\\x10': 2, ' ': 3, '!': 4, '\"': 5, '#': 6, '$': 7, '%': 8, '&': 9, \"'\": 10, '(': 11, ')': 12, '*': 13, '+': 14, ',': 15, '-': 16, '.': 17, '/': 18, '0': 19, '1': 20, '2': 21, '3': 22, '4': 23, '5': 24, '6': 25, '7': 26, '8': 27, '9': 28, ':': 29, ';': 30, '<': 31, '=': 32, '>': 33, '?': 34, '@': 35, 'A': 36, 'B': 37, 'C': 38, 'D': 39, 'E': 40, 'F': 41, 'G': 42, 'H': 43, 'I': 44, 'J': 45, 'K': 46, 'L': 47, 'M': 48, 'N': 49, 'O': 50, 'P': 51, 'Q': 52, 'R': 53, 'S': 54, 'T': 55, 'U': 56, 'V': 57, 'W': 58, 'X': 59, 'Y': 60, 'Z': 61, '[': 62, '\\\\': 63, ']': 64, '^': 65, '_': 66, '`': 67, 'a': 68, 'b': 69, 'c': 70, 'd': 71, 'e': 72, 'f': 73, 'g': 74, 'h': 75, 'i': 76, 'j': 77, 'k': 78, 'l': 79, 'm': 80, 'n': 81, 'o': 82, 'p': 83, 'q': 84, 'r': 85, 's': 86, 't': 87, 'u': 88, 'v': 89, 'w': 90, 'x': 91, 'y': 92, 'z': 93, '{': 94, '|': 95, '}': 96, '~': 97, '\\x80': 98, '\\x84': 99, '\\x85': 100, '\\x8d': 101, '\\x8e': 102, '\\x91': 103, '\\x95': 104, '\\x96': 105, '\\x97': 106, '\\x9a': 107, '\\x9e': 108, '\\xa0': 109, '\u00a1': 110, '\u00a2': 111, '\u00a3': 112, '\u00a4': 113, '\u00a6': 114, '\u00a7': 115, '\u00a8': 116, '\u00ab': 117, '\\xad': 118, '\u00ae': 119, '\u00b0': 120, '\u00b3': 121, '\u00b4': 122, '\u00b7': 123, '\u00ba': 124, '\u00bb': 125, '\u00bd': 126, '\u00be': 127, '\u00bf': 128, '\u00c0': 129, '\u00c1': 130, '\u00c3': 131, '\u00c4': 132, '\u00c5': 133, '\u00c8': 134, '\u00c9': 135, '\u00ca': 136, '\u00d5': 137, '\u00d8': 138, '\u00dc': 139, '\u00df': 140, '\u00e0': 141, '\u00e1': 142, '\u00e2': 143, '\u00e3': 144, '\u00e4': 145, '\u00e5': 146, '\u00e6': 147, '\u00e7': 148, '\u00e8': 149, '\u00e9': 150, '\u00ea': 151, '\u00eb': 152, '\u00ec': 153, '\u00ed': 154, '\u00ee': 155, '\u00ef': 156, '\u00f0': 157, '\u00f1': 158, '\u00f2': 159, '\u00f3': 160, '\u00f4': 161, '\u00f6': 162, '\u00f8': 163, '\u00f9': 164, '\u00fa': 165, '\u00fb': 166, '\u00fc': 167, '\u00fd': 168, '\u014d': 169, '\u2013': 170, '\u2018': 171, '\u2019': 172, '\u201c': 173, '\u201d': 174, '\u2026': 175, '\u20a4': 176, '\\uf0b7': 177}\n",
            "Encoded Sample [44  3 85 72 81 87 72 71  3 44  3 36 48  3 38 56 53 44 50 56 54 16 60 40\n",
            " 47 47 50 58  3 73 85 82 80  3 80 92  3 89 76 71 72 82  3 86 87 82 85 72\n",
            "  3 69 72 70 68 88 86 72  3 82 73  3 68 79 79  3 87 75 72  3 70 82 81 87\n",
            " 85 82 89 72 85 86 92  3 87 75 68 87  3 86 88 85 85 82 88 81 71 72 71  3\n",
            " 76 87  3 90]\n"
          ]
        }
      ]
    },
    {
      "cell_type": "code",
      "source": [
        "import tensorflow as tf\n",
        "\n",
        "# Length of each sequence (window size)\n",
        "# 100 characters per training\n",
        "seq_length = 100\n",
        "\n",
        "# Create dataset from encoded numbers\n",
        "char_dataset = tf.data.Dataset.from_tensor_slices(encoded)\n",
        "\n",
        "# Create windows of length (seq_length + 1)\n",
        "# +1 because we need input sequence and target (shifted by 1)\n",
        "sequences = char_dataset.batch(seq_length + 1, drop_remainder=True)\n",
        "\n",
        "# Function to split into input and target\n",
        "def split_input_target(chunk):\n",
        "    input_text = chunk[:-1]   # first 100 characters\n",
        "    target_text = chunk[1:]   # next 100 characters\n",
        "    return input_text, target_text\n",
        "\n",
        "dataset = sequences.map(split_input_target)\n",
        "\n",
        "# Shuffle and batch\n",
        "BATCH_SIZE = 64\n",
        "BUFFER_SIZE = 10000\n",
        "dataset = dataset.shuffle(BUFFER_SIZE).batch(BATCH_SIZE, drop_remainder=True)\n",
        "\n",
        "print(dataset)\n"
      ],
      "metadata": {
        "id": "5gHkvlCuyfAU",
        "colab": {
          "base_uri": "https://localhost:8080/"
        },
        "outputId": "d3989847-b10b-418d-eb14-5e62c1fbe86f"
      },
      "execution_count": 7,
      "outputs": [
        {
          "output_type": "stream",
          "name": "stdout",
          "text": [
            "<_BatchDataset element_spec=(TensorSpec(shape=(64, 100), dtype=tf.int64, name=None), TensorSpec(shape=(64, 100), dtype=tf.int64, name=None))>\n"
          ]
        }
      ]
    },
    {
      "cell_type": "code",
      "source": [
        "# Vocabulary size\n",
        "vocab_size = len(chars)\n",
        "\n",
        "# Embedding dimension (size of vector for each character)\n",
        "embedding_dim = 256\n",
        "\n",
        "# Number of LSTM units\n",
        "rnn_units = 512\n",
        "\n",
        "from tensorflow.keras.models import Sequential\n",
        "from tensorflow.keras.layers import Embedding, LSTM, Dense\n",
        "\n",
        "model = tf.keras.Sequential([\n",
        "    tf.keras.layers.Embedding(vocab_size, embedding_dim, input_length=100),  # 100 = seq_length\n",
        "    tf.keras.layers.LSTM(rnn_units, return_sequences=True),\n",
        "    tf.keras.layers.Dense(vocab_size)\n",
        "])\n",
        "\n",
        "# Define the loss function\n",
        "loss = tf.keras.losses.SparseCategoricalCrossentropy(from_logits=True)\n",
        "\n",
        "# Compile the model\n",
        "model.compile(optimizer='adam', loss=loss)\n",
        "\n",
        "\n",
        "for input_example, target_example in dataset.take(1):\n",
        "    example_batch_predictions = model(input_example)\n",
        "\n",
        "\n",
        "model.summary()\n"
      ],
      "metadata": {
        "colab": {
          "base_uri": "https://localhost:8080/",
          "height": 260
        },
        "id": "oT7cdgmsIWep",
        "outputId": "d3c787d5-dd99-448c-fcc8-c8a909c417f2"
      },
      "execution_count": 8,
      "outputs": [
        {
          "output_type": "stream",
          "name": "stderr",
          "text": [
            "/usr/local/lib/python3.12/dist-packages/keras/src/layers/core/embedding.py:97: UserWarning: Argument `input_length` is deprecated. Just remove it.\n",
            "  warnings.warn(\n"
          ]
        },
        {
          "output_type": "display_data",
          "data": {
            "text/plain": [
              "\u001b[1mModel: \"sequential\"\u001b[0m\n"
            ],
            "text/html": [
              "<pre style=\"white-space:pre;overflow-x:auto;line-height:normal;font-family:Menlo,'DejaVu Sans Mono',consolas,'Courier New',monospace\"><span style=\"font-weight: bold\">Model: \"sequential\"</span>\n",
              "</pre>\n"
            ]
          },
          "metadata": {}
        },
        {
          "output_type": "display_data",
          "data": {
            "text/plain": [
              "\u250f\u2501\u2501\u2501\u2501\u2501\u2501\u2501\u2501\u2501\u2501\u2501\u2501\u2501\u2501\u2501\u2501\u2501\u2501\u2501\u2501\u2501\u2501\u2501\u2501\u2501\u2501\u2501\u2501\u2501\u2501\u2501\u2501\u2501\u2533\u2501\u2501\u2501\u2501\u2501\u2501\u2501\u2501\u2501\u2501\u2501\u2501\u2501\u2501\u2501\u2501\u2501\u2501\u2501\u2501\u2501\u2501\u2501\u2501\u2533\u2501\u2501\u2501\u2501\u2501\u2501\u2501\u2501\u2501\u2501\u2501\u2501\u2501\u2501\u2501\u2513\n",
              "\u2503\u001b[1m \u001b[0m\u001b[1mLayer (type)                   \u001b[0m\u001b[1m \u001b[0m\u2503\u001b[1m \u001b[0m\u001b[1mOutput Shape          \u001b[0m\u001b[1m \u001b[0m\u2503\u001b[1m \u001b[0m\u001b[1m      Param #\u001b[0m\u001b[1m \u001b[0m\u2503\n",
              "\u2521\u2501\u2501\u2501\u2501\u2501\u2501\u2501\u2501\u2501\u2501\u2501\u2501\u2501\u2501\u2501\u2501\u2501\u2501\u2501\u2501\u2501\u2501\u2501\u2501\u2501\u2501\u2501\u2501\u2501\u2501\u2501\u2501\u2501\u2547\u2501\u2501\u2501\u2501\u2501\u2501\u2501\u2501\u2501\u2501\u2501\u2501\u2501\u2501\u2501\u2501\u2501\u2501\u2501\u2501\u2501\u2501\u2501\u2501\u2547\u2501\u2501\u2501\u2501\u2501\u2501\u2501\u2501\u2501\u2501\u2501\u2501\u2501\u2501\u2501\u2529\n",
              "\u2502 embedding (\u001b[38;5;33mEmbedding\u001b[0m)           \u2502 (\u001b[38;5;34m64\u001b[0m, \u001b[38;5;34m100\u001b[0m, \u001b[38;5;34m256\u001b[0m)         \u2502        \u001b[38;5;34m45,568\u001b[0m \u2502\n",
              "\u251c\u2500\u2500\u2500\u2500\u2500\u2500\u2500\u2500\u2500\u2500\u2500\u2500\u2500\u2500\u2500\u2500\u2500\u2500\u2500\u2500\u2500\u2500\u2500\u2500\u2500\u2500\u2500\u2500\u2500\u2500\u2500\u2500\u2500\u253c\u2500\u2500\u2500\u2500\u2500\u2500\u2500\u2500\u2500\u2500\u2500\u2500\u2500\u2500\u2500\u2500\u2500\u2500\u2500\u2500\u2500\u2500\u2500\u2500\u253c\u2500\u2500\u2500\u2500\u2500\u2500\u2500\u2500\u2500\u2500\u2500\u2500\u2500\u2500\u2500\u2524\n",
              "\u2502 lstm (\u001b[38;5;33mLSTM\u001b[0m)                     \u2502 (\u001b[38;5;34m64\u001b[0m, \u001b[38;5;34m100\u001b[0m, \u001b[38;5;34m512\u001b[0m)         \u2502     \u001b[38;5;34m1,574,912\u001b[0m \u2502\n",
              "\u251c\u2500\u2500\u2500\u2500\u2500\u2500\u2500\u2500\u2500\u2500\u2500\u2500\u2500\u2500\u2500\u2500\u2500\u2500\u2500\u2500\u2500\u2500\u2500\u2500\u2500\u2500\u2500\u2500\u2500\u2500\u2500\u2500\u2500\u253c\u2500\u2500\u2500\u2500\u2500\u2500\u2500\u2500\u2500\u2500\u2500\u2500\u2500\u2500\u2500\u2500\u2500\u2500\u2500\u2500\u2500\u2500\u2500\u2500\u253c\u2500\u2500\u2500\u2500\u2500\u2500\u2500\u2500\u2500\u2500\u2500\u2500\u2500\u2500\u2500\u2524\n",
              "\u2502 dense (\u001b[38;5;33mDense\u001b[0m)                   \u2502 (\u001b[38;5;34m64\u001b[0m, \u001b[38;5;34m100\u001b[0m, \u001b[38;5;34m178\u001b[0m)         \u2502        \u001b[38;5;34m91,314\u001b[0m \u2502\n",
              "\u2514\u2500\u2500\u2500\u2500\u2500\u2500\u2500\u2500\u2500\u2500\u2500\u2500\u2500\u2500\u2500\u2500\u2500\u2500\u2500\u2500\u2500\u2500\u2500\u2500\u2500\u2500\u2500\u2500\u2500\u2500\u2500\u2500\u2500\u2534\u2500\u2500\u2500\u2500\u2500\u2500\u2500\u2500\u2500\u2500\u2500\u2500\u2500\u2500\u2500\u2500\u2500\u2500\u2500\u2500\u2500\u2500\u2500\u2500\u2534\u2500\u2500\u2500\u2500\u2500\u2500\u2500\u2500\u2500\u2500\u2500\u2500\u2500\u2500\u2500\u2518\n"
            ],
            "text/html": [
              "<pre style=\"white-space:pre;overflow-x:auto;line-height:normal;font-family:Menlo,'DejaVu Sans Mono',consolas,'Courier New',monospace\">\u250f\u2501\u2501\u2501\u2501\u2501\u2501\u2501\u2501\u2501\u2501\u2501\u2501\u2501\u2501\u2501\u2501\u2501\u2501\u2501\u2501\u2501\u2501\u2501\u2501\u2501\u2501\u2501\u2501\u2501\u2501\u2501\u2501\u2501\u2533\u2501\u2501\u2501\u2501\u2501\u2501\u2501\u2501\u2501\u2501\u2501\u2501\u2501\u2501\u2501\u2501\u2501\u2501\u2501\u2501\u2501\u2501\u2501\u2501\u2533\u2501\u2501\u2501\u2501\u2501\u2501\u2501\u2501\u2501\u2501\u2501\u2501\u2501\u2501\u2501\u2513\n",
              "\u2503<span style=\"font-weight: bold\"> Layer (type)                    </span>\u2503<span style=\"font-weight: bold\"> Output Shape           </span>\u2503<span style=\"font-weight: bold\">       Param # </span>\u2503\n",
              "\u2521\u2501\u2501\u2501\u2501\u2501\u2501\u2501\u2501\u2501\u2501\u2501\u2501\u2501\u2501\u2501\u2501\u2501\u2501\u2501\u2501\u2501\u2501\u2501\u2501\u2501\u2501\u2501\u2501\u2501\u2501\u2501\u2501\u2501\u2547\u2501\u2501\u2501\u2501\u2501\u2501\u2501\u2501\u2501\u2501\u2501\u2501\u2501\u2501\u2501\u2501\u2501\u2501\u2501\u2501\u2501\u2501\u2501\u2501\u2547\u2501\u2501\u2501\u2501\u2501\u2501\u2501\u2501\u2501\u2501\u2501\u2501\u2501\u2501\u2501\u2529\n",
              "\u2502 embedding (<span style=\"color: #0087ff; text-decoration-color: #0087ff\">Embedding</span>)           \u2502 (<span style=\"color: #00af00; text-decoration-color: #00af00\">64</span>, <span style=\"color: #00af00; text-decoration-color: #00af00\">100</span>, <span style=\"color: #00af00; text-decoration-color: #00af00\">256</span>)         \u2502        <span style=\"color: #00af00; text-decoration-color: #00af00\">45,568</span> \u2502\n",
              "\u251c\u2500\u2500\u2500\u2500\u2500\u2500\u2500\u2500\u2500\u2500\u2500\u2500\u2500\u2500\u2500\u2500\u2500\u2500\u2500\u2500\u2500\u2500\u2500\u2500\u2500\u2500\u2500\u2500\u2500\u2500\u2500\u2500\u2500\u253c\u2500\u2500\u2500\u2500\u2500\u2500\u2500\u2500\u2500\u2500\u2500\u2500\u2500\u2500\u2500\u2500\u2500\u2500\u2500\u2500\u2500\u2500\u2500\u2500\u253c\u2500\u2500\u2500\u2500\u2500\u2500\u2500\u2500\u2500\u2500\u2500\u2500\u2500\u2500\u2500\u2524\n",
              "\u2502 lstm (<span style=\"color: #0087ff; text-decoration-color: #0087ff\">LSTM</span>)                     \u2502 (<span style=\"color: #00af00; text-decoration-color: #00af00\">64</span>, <span style=\"color: #00af00; text-decoration-color: #00af00\">100</span>, <span style=\"color: #00af00; text-decoration-color: #00af00\">512</span>)         \u2502     <span style=\"color: #00af00; text-decoration-color: #00af00\">1,574,912</span> \u2502\n",
              "\u251c\u2500\u2500\u2500\u2500\u2500\u2500\u2500\u2500\u2500\u2500\u2500\u2500\u2500\u2500\u2500\u2500\u2500\u2500\u2500\u2500\u2500\u2500\u2500\u2500\u2500\u2500\u2500\u2500\u2500\u2500\u2500\u2500\u2500\u253c\u2500\u2500\u2500\u2500\u2500\u2500\u2500\u2500\u2500\u2500\u2500\u2500\u2500\u2500\u2500\u2500\u2500\u2500\u2500\u2500\u2500\u2500\u2500\u2500\u253c\u2500\u2500\u2500\u2500\u2500\u2500\u2500\u2500\u2500\u2500\u2500\u2500\u2500\u2500\u2500\u2524\n",
              "\u2502 dense (<span style=\"color: #0087ff; text-decoration-color: #0087ff\">Dense</span>)                   \u2502 (<span style=\"color: #00af00; text-decoration-color: #00af00\">64</span>, <span style=\"color: #00af00; text-decoration-color: #00af00\">100</span>, <span style=\"color: #00af00; text-decoration-color: #00af00\">178</span>)         \u2502        <span style=\"color: #00af00; text-decoration-color: #00af00\">91,314</span> \u2502\n",
              "\u2514\u2500\u2500\u2500\u2500\u2500\u2500\u2500\u2500\u2500\u2500\u2500\u2500\u2500\u2500\u2500\u2500\u2500\u2500\u2500\u2500\u2500\u2500\u2500\u2500\u2500\u2500\u2500\u2500\u2500\u2500\u2500\u2500\u2500\u2534\u2500\u2500\u2500\u2500\u2500\u2500\u2500\u2500\u2500\u2500\u2500\u2500\u2500\u2500\u2500\u2500\u2500\u2500\u2500\u2500\u2500\u2500\u2500\u2500\u2534\u2500\u2500\u2500\u2500\u2500\u2500\u2500\u2500\u2500\u2500\u2500\u2500\u2500\u2500\u2500\u2518\n",
              "</pre>\n"
            ]
          },
          "metadata": {}
        },
        {
          "output_type": "display_data",
          "data": {
            "text/plain": [
              "\u001b[1m Total params: \u001b[0m\u001b[38;5;34m1,711,794\u001b[0m (6.53 MB)\n"
            ],
            "text/html": [
              "<pre style=\"white-space:pre;overflow-x:auto;line-height:normal;font-family:Menlo,'DejaVu Sans Mono',consolas,'Courier New',monospace\"><span style=\"font-weight: bold\"> Total params: </span><span style=\"color: #00af00; text-decoration-color: #00af00\">1,711,794</span> (6.53 MB)\n",
              "</pre>\n"
            ]
          },
          "metadata": {}
        },
        {
          "output_type": "display_data",
          "data": {
            "text/plain": [
              "\u001b[1m Trainable params: \u001b[0m\u001b[38;5;34m1,711,794\u001b[0m (6.53 MB)\n"
            ],
            "text/html": [
              "<pre style=\"white-space:pre;overflow-x:auto;line-height:normal;font-family:Menlo,'DejaVu Sans Mono',consolas,'Courier New',monospace\"><span style=\"font-weight: bold\"> Trainable params: </span><span style=\"color: #00af00; text-decoration-color: #00af00\">1,711,794</span> (6.53 MB)\n",
              "</pre>\n"
            ]
          },
          "metadata": {}
        },
        {
          "output_type": "display_data",
          "data": {
            "text/plain": [
              "\u001b[1m Non-trainable params: \u001b[0m\u001b[38;5;34m0\u001b[0m (0.00 B)\n"
            ],
            "text/html": [
              "<pre style=\"white-space:pre;overflow-x:auto;line-height:normal;font-family:Menlo,'DejaVu Sans Mono',consolas,'Courier New',monospace\"><span style=\"font-weight: bold\"> Non-trainable params: </span><span style=\"color: #00af00; text-decoration-color: #00af00\">0</span> (0.00 B)\n",
              "</pre>\n"
            ]
          },
          "metadata": {}
        }
      ]
    },
    {
      "cell_type": "code",
      "source": [
        "small_dataset = dataset.take(200)   # only first 200 batches\n",
        "history = model.fit(small_dataset, epochs=5)\n"
      ],
      "metadata": {
        "id": "FyZlPoW8TOdb",
        "colab": {
          "base_uri": "https://localhost:8080/"
        },
        "outputId": "4cb122c3-fc08-425c-8f95-2767be393687"
      },
      "execution_count": 9,
      "outputs": [
        {
          "output_type": "stream",
          "name": "stdout",
          "text": [
            "Epoch 1/5\n",
            "\u001b[1m200/200\u001b[0m \u001b[32m\u2501\u2501\u2501\u2501\u2501\u2501\u2501\u2501\u2501\u2501\u2501\u2501\u2501\u2501\u2501\u2501\u2501\u2501\u2501\u2501\u001b[0m\u001b[37m\u001b[0m \u001b[1m404s\u001b[0m 2s/step - loss: 3.0244\n",
            "Epoch 2/5\n",
            "\u001b[1m200/200\u001b[0m \u001b[32m\u2501\u2501\u2501\u2501\u2501\u2501\u2501\u2501\u2501\u2501\u2501\u2501\u2501\u2501\u2501\u2501\u2501\u2501\u2501\u2501\u001b[0m\u001b[37m\u001b[0m \u001b[1m441s\u001b[0m 2s/step - loss: 2.1260\n",
            "Epoch 3/5\n",
            "\u001b[1m200/200\u001b[0m \u001b[32m\u2501\u2501\u2501\u2501\u2501\u2501\u2501\u2501\u2501\u2501\u2501\u2501\u2501\u2501\u2501\u2501\u2501\u2501\u2501\u2501\u001b[0m\u001b[37m\u001b[0m \u001b[1m399s\u001b[0m 2s/step - loss: 1.9251\n",
            "Epoch 4/5\n",
            "\u001b[1m200/200\u001b[0m \u001b[32m\u2501\u2501\u2501\u2501\u2501\u2501\u2501\u2501\u2501\u2501\u2501\u2501\u2501\u2501\u2501\u2501\u2501\u2501\u2501\u2501\u001b[0m\u001b[37m\u001b[0m \u001b[1m471s\u001b[0m 2s/step - loss: 1.8052\n",
            "Epoch 5/5\n",
            "\u001b[1m200/200\u001b[0m \u001b[32m\u2501\u2501\u2501\u2501\u2501\u2501\u2501\u2501\u2501\u2501\u2501\u2501\u2501\u2501\u2501\u2501\u2501\u2501\u2501\u2501\u001b[0m\u001b[37m\u001b[0m \u001b[1m449s\u001b[0m 2s/step - loss: 1.7221\n"
          ]
        }
      ]
    },
    {
      "cell_type": "code",
      "source": [
        "import numpy as np\n",
        "import tensorflow as tf\n",
        "\n",
        "def generate_text(model, start_string, num_generate=500, temperature=1.0):\n",
        "    # Convert start string to numbers (vectorize)\n",
        "    input_eval = [char_to_idx[s] for s in start_string]\n",
        "    input_eval = tf.expand_dims(input_eval, 0)\n",
        "\n",
        "    # Empty string to store results\n",
        "    text_generated = []\n",
        "\n",
        "    for _ in range(num_generate):\n",
        "        predictions = model(input_eval)\n",
        "        predictions = tf.squeeze(predictions, 0)   # remove batch dimension\n",
        "\n",
        "        # Adjust prediction distribution with \"temperature\"\n",
        "        predictions = predictions / temperature\n",
        "\n",
        "        # Sample the next character ID\n",
        "        predicted_id = tf.random.categorical(tf.expand_dims(predictions[-1], 0), num_samples=1)[0,0].numpy()\n",
        "\n",
        "        # Add predicted character\n",
        "        text_generated.append(idx_to_char[predicted_id])\n",
        "\n",
        "        # Feed predicted char back as next input\n",
        "        input_eval = tf.expand_dims([predicted_id], 0)\n",
        "\n",
        "    return start_string + ''.join(text_generated)\n"
      ],
      "metadata": {
        "id": "_DIngghJVciO"
      },
      "execution_count": 10,
      "outputs": []
    },
    {
      "cell_type": "code",
      "source": [
        "print(generate_text(model, start_string=\"Once upon a time \", num_generate=300, temperature=0.8))\n"
      ],
      "metadata": {
        "colab": {
          "base_uri": "https://localhost:8080/"
        },
        "id": "O9QoMDvggaHU",
        "outputId": "52bf9dd7-d4c9-437c-9b02-ec089e197fc7"
      },
      "execution_count": 11,
      "outputs": [
        {
          "output_type": "stream",
          "name": "stdout",
          "text": [
            "Once upon a time wrea an wherindes ongrour thieve fend ts po B|/>/>Wanangror and. ios this orn a t B\u00f8\u008e^. i8\u00e42Face hale alis t thisple, ade a isioma they st corie tesisices t, mamantor my s t br I )mollioong ber orite B/>R\u00b3d f was wavelomy me thear whake re t il r s chmait weralirovo'sthecendenerathe towair a 3 t it \n"
          ]
        }
      ]
    },
    {
      "cell_type": "code",
      "source": [],
      "metadata": {
        "id": "lj4ytq4HgddK"
      },
      "execution_count": 11,
      "outputs": []
    },
    {
      "cell_type": "code",
      "source": [
        "# Pillow is a Python imaging library.\n",
        "# It allows us to create, edit, and save images in Python.\n",
        "!pip install pillow\n"
      ],
      "metadata": {
        "colab": {
          "base_uri": "https://localhost:8080/"
        },
        "id": "tmR1d7-viJdf",
        "outputId": "204869d1-5b2e-4f24-9fb2-e91ce4501aba"
      },
      "execution_count": 12,
      "outputs": [
        {
          "output_type": "stream",
          "name": "stdout",
          "text": [
            "Requirement already satisfied: pillow in /usr/local/lib/python3.12/dist-packages (11.3.0)\n"
          ]
        }
      ]
    },
    {
      "cell_type": "code",
      "source": [
        "!wget -O /content/handwriting.ttf https://github.com/google/fonts/raw/main/ofl/indieflower/IndieFlower-Regular.ttf\n"
      ],
      "metadata": {
        "id": "Xj9Z_bKCi263"
      },
      "execution_count": null,
      "outputs": []
    },
    {
      "cell_type": "code",
      "source": [
        "from PIL import Image, ImageDraw, ImageFont\n",
        "\n",
        "# Example generated text\n",
        "text = generate_text(model, start_string=\"Once upon a time \", num_generate=300)\n",
        "\n",
        "# Create blank white image\n",
        "img = Image.new(\"RGB\", (1000, 800), color=\"white\")\n",
        "draw = ImageDraw.Draw(img)\n",
        "\n",
        "# Load the downloaded font (absolute path!)\n",
        "font = ImageFont.truetype(\"/content/handwriting.ttf\", 24)\n",
        "\n",
        "# Write text\n",
        "draw.multiline_text((10, 10), text, font=font, fill=\"black\", spacing=5)\n",
        "\n",
        "# Save and show\n",
        "img.save(\"generated_handwriting.png\")\n",
        "img.show()\n"
      ],
      "metadata": {
        "id": "9U5ULvoZiKnc"
      },
      "execution_count": null,
      "outputs": []
    },
    {
      "cell_type": "code",
      "source": [],
      "metadata": {
        "id": "YffS1VzgiW2F"
      },
      "execution_count": 14,
      "outputs": []
    }
  ]
}